{
 "cells": [
  {
   "cell_type": "markdown",
   "metadata": {},
   "source": [
    "# Et første eksempel på maskinlæring"
   ]
  },
  {
   "cell_type": "markdown",
   "metadata": {},
   "source": [
    "Velkommen til kursets aller første eksempel! I denne Jupyter notebooken skal vi bruke maskinlæring for å analysere to standard «benchmark»-datasett."
   ]
  },
  {
   "cell_type": "markdown",
   "metadata": {},
   "source": [
    "Du kan laste ned denne notebooken via kursets GitHub repo: https://github.com/alu042/DAT158ML."
   ]
  },
  {
   "cell_type": "markdown",
   "metadata": {},
   "source": [
    "> Du vil møte noen celler merket med «Din tur!» nedenfor. I disse er det meningen at du skal eksperimentere med koden."
   ]
  },
  {
   "cell_type": "markdown",
   "metadata": {},
   "source": [
    "## Data"
   ]
  },
  {
   "cell_type": "markdown",
   "metadata": {},
   "source": [
    "Vi skal bruke et klassisk datasett: Iris\n",
    "\n",
    "<centering>\n",
    "<img width=60% src=\"./assets/iris.png\">\n",
    "</centering>"
   ]
  },
  {
   "cell_type": "markdown",
   "metadata": {},
   "source": [
    "Fra sepal- og petal-lengder og -bredder (begerblad og kronblad) til en Iris-blomst skal vi predikere hvorvidt det er en Iris-Setosa, Iris-Versicolor eller en Iris-Virginica. \n",
    "\n",
    "Merk: å tilordne en klasse til hvert datapunkt kalles **klassifikasjon**. Vi skal lære mye mer om klassifikasjon neste uke! "
   ]
  },
  {
   "cell_type": "markdown",
   "metadata": {},
   "source": [
    "# Oppsett av ML-rammeverk"
   ]
  },
  {
   "cell_type": "markdown",
   "metadata": {},
   "source": [
    "Gjennom hele kurset skal vi bruke <a href=\"https://www.datacamp.com/community/tutorials/python-numpy-tutorial\">numpy</a> til numeriske beregninger, <a href=\"https://www.datacamp.com/community/tutorials/pandas-tutorial-dataframe-python\">pandas</a> og <a href=\"https://www.datacamp.com/community/tutorials/matplotlib-tutorial-python\">matplotlib</a> til å lage plots og figurer. *Du blir nødt til å gjøre deg godt kjent med disse!* Du finner info i lenkene over, samt i DAT158 Del 0 på Canvas. Om du ikke har fullført Del 0, gjør det før du går i gang med denne notebooken!"
   ]
  },
  {
   "cell_type": "code",
   "execution_count": null,
   "metadata": {},
   "outputs": [],
   "source": [
    "import numpy as np\n",
    "import pandas as pd\n",
    "import matplotlib.pyplot as plt"
   ]
  },
  {
   "cell_type": "markdown",
   "metadata": {},
   "source": [
    "Du bør ha med følgende i alle dine notebooks. "
   ]
  },
  {
   "cell_type": "code",
   "execution_count": null,
   "metadata": {},
   "outputs": [],
   "source": [
    "# For å automatisk reloade moduler definert i eksterne filer:\n",
    "%reload_ext autoreload\n",
    "%autoreload 2\n",
    "\n",
    "# For å vise plots direkte i notebooks:\n",
    "%matplotlib inline"
   ]
  },
  {
   "cell_type": "markdown",
   "metadata": {},
   "source": [
    "**Din tur!: ** Les mer om disse og andre *magic* commands ved å skrive `%magic`. Du kan fjerne kommentar-tegnet `#` i cellen nedenfor og kjøre cellen med `Shift+Enter`."
   ]
  },
  {
   "cell_type": "code",
   "execution_count": null,
   "metadata": {},
   "outputs": [],
   "source": [
    "#%magic"
   ]
  },
  {
   "cell_type": "markdown",
   "metadata": {},
   "source": [
    "For selve maskinlæringen i DAT158 skal vi stort sett bruke `scikit-learn`: "
   ]
  },
  {
   "cell_type": "code",
   "execution_count": null,
   "metadata": {},
   "outputs": [],
   "source": [
    "import sklearn"
   ]
  },
  {
   "cell_type": "markdown",
   "metadata": {},
   "source": [
    "# Les inn og utforsk data"
   ]
  },
  {
   "cell_type": "markdown",
   "metadata": {},
   "source": [
    "Iris er et standard benchmark-datasett og kommer derfor innebygget i scikit-learn:"
   ]
  },
  {
   "cell_type": "code",
   "execution_count": null,
   "metadata": {},
   "outputs": [],
   "source": [
    "from sklearn.datasets import load_iris"
   ]
  },
  {
   "cell_type": "markdown",
   "metadata": {},
   "source": [
    "**Nyttig tips:** Ved å plassere spørsmålstegn foran et Python-objekt i Jupyter får du opp dokumentasjonen. (Du kan også trykke `Shift+Tab` inne i cellen. Med to spørsmålstegn får du kildekoden)."
   ]
  },
  {
   "cell_type": "code",
   "execution_count": null,
   "metadata": {},
   "outputs": [],
   "source": [
    "#?load_iris"
   ]
  },
  {
   "cell_type": "code",
   "execution_count": null,
   "metadata": {},
   "outputs": [],
   "source": [
    "#??load_iris"
   ]
  },
  {
   "cell_type": "code",
   "execution_count": null,
   "metadata": {},
   "outputs": [],
   "source": [
    "iris_dataset = load_iris()"
   ]
  },
  {
   "cell_type": "markdown",
   "metadata": {},
   "source": [
    "Du finner en beskrivelse av Iris-datasettet med nøkkelen `DESCR`:"
   ]
  },
  {
   "cell_type": "code",
   "execution_count": null,
   "metadata": {},
   "outputs": [],
   "source": [
    "#print(iris_dataset['DESCR'])"
   ]
  },
  {
   "cell_type": "markdown",
   "metadata": {},
   "source": [
    "Liste av tilgjengelige *features* i datasettet:"
   ]
  },
  {
   "cell_type": "code",
   "execution_count": null,
   "metadata": {},
   "outputs": [],
   "source": [
    "print(f\"Features: {iris_dataset['feature_names']}\")"
   ]
  },
  {
   "cell_type": "markdown",
   "metadata": {},
   "source": [
    "Liste av tilgjengelige *labels*:"
   ]
  },
  {
   "cell_type": "code",
   "execution_count": null,
   "metadata": {},
   "outputs": [],
   "source": [
    "print(f\"Labels: {iris_dataset['target_names']}\")"
   ]
  },
  {
   "cell_type": "markdown",
   "metadata": {},
   "source": [
    "Hvor mye data har vi?"
   ]
  },
  {
   "cell_type": "code",
   "execution_count": null,
   "metadata": {},
   "outputs": [],
   "source": [
    "iris_dataset['data'].shape"
   ]
  },
  {
   "cell_type": "markdown",
   "metadata": {},
   "source": [
    "Vi har 150 rader og 4 søyler med data. Hver rad av data kalles et *sample*. Hver søyle en *feature* eller en *egenskap*."
   ]
  },
  {
   "cell_type": "markdown",
   "metadata": {},
   "source": [
    "Det er veldig ofte hensiktsmessig å bruke `Pandas` når en arbeider med tekst-baserte datasett. I det følgende samler vi treningsdata i en `Pandas dataframe` (et tabell-format):"
   ]
  },
  {
   "cell_type": "code",
   "execution_count": null,
   "metadata": {},
   "outputs": [],
   "source": [
    "iris_df = pd.DataFrame(iris_dataset['data'], columns=iris_dataset['feature_names'])"
   ]
  },
  {
   "cell_type": "markdown",
   "metadata": {},
   "source": [
    "Her er de første ti radene:"
   ]
  },
  {
   "cell_type": "code",
   "execution_count": null,
   "metadata": {},
   "outputs": [],
   "source": [
    "iris_df.head(10)"
   ]
  },
  {
   "cell_type": "markdown",
   "metadata": {},
   "source": [
    "## Visualiser data"
   ]
  },
  {
   "cell_type": "markdown",
   "metadata": {},
   "source": [
    "Vi kan bruke Pandas til å lage **scatter plots** for hvert par av søyler i dataframe-en. Vi farger dottene med hvilken klasse de tilhører:"
   ]
  },
  {
   "cell_type": "code",
   "execution_count": null,
   "metadata": {},
   "outputs": [],
   "source": [
    "pd.plotting.scatter_matrix(iris_df, c=iris_dataset['target'], figsize=(15,15), marker='o', s=60)\n",
    "plt.show()"
   ]
  },
  {
   "cell_type": "markdown",
   "metadata": {},
   "source": [
    "Diagonalen viser histogram til hver feature. "
   ]
  },
  {
   "cell_type": "markdown",
   "metadata": {},
   "source": [
    "Vi observerer at fargene er godt adskilt. **Å få en maskinlæringsmodell til å skille klassene fra hverandre virker derfor lovende!**"
   ]
  },
  {
   "cell_type": "markdown",
   "metadata": {},
   "source": [
    "Vi kan velge å trene en modell på én eller flere av disse features. La oss bruke `sepal length` og `sepal width`:"
   ]
  },
  {
   "cell_type": "code",
   "execution_count": null,
   "metadata": {},
   "outputs": [],
   "source": [
    "# Vi plukker ut 0-te og 1-te rad i datasettet da disse inneholder sepal-lengde og -bredde:\n",
    "X = iris_dataset['data'][:, [0, 1]]\n",
    "y = iris_dataset['target']"
   ]
  },
  {
   "cell_type": "code",
   "execution_count": null,
   "metadata": {},
   "outputs": [],
   "source": [
    "X.shape"
   ]
  },
  {
   "cell_type": "markdown",
   "metadata": {},
   "source": [
    "Vi har altså tilgang til to målinger (sepal lengde og bredde) for 150 blomster. Fra egenskapene i X skal vår modell kunne predikere korrekt label y."
   ]
  },
  {
   "cell_type": "markdown",
   "metadata": {},
   "source": [
    "Her er de første fem målingene, samt tilhørende labels:"
   ]
  },
  {
   "cell_type": "code",
   "execution_count": null,
   "metadata": {},
   "outputs": [],
   "source": [
    "print(X[:5])"
   ]
  },
  {
   "cell_type": "code",
   "execution_count": null,
   "metadata": {},
   "outputs": [],
   "source": [
    "print(y[:5])"
   ]
  },
  {
   "cell_type": "markdown",
   "metadata": {},
   "source": [
    "0 betyr Setaosa, 1 er Versicolor og 2 er Virginica (husk at Python indekserer lister fra 0):"
   ]
  },
  {
   "cell_type": "code",
   "execution_count": null,
   "metadata": {},
   "outputs": [],
   "source": [
    "print(iris_dataset['target_names'])"
   ]
  },
  {
   "cell_type": "markdown",
   "metadata": {},
   "source": [
    "# Trenings- og testdata"
   ]
  },
  {
   "cell_type": "markdown",
   "metadata": {},
   "source": [
    "Vi skal bygge en maskinlæringsmodell som skal være i stand til å predikere Iris-art *for nye målinger som kommer inn*. For å *simulere* slike målinger setter vi til side et **testdata-sett**, en mengde data som ikke blir brukt til å bygge modellen. Om vi trener modellen ved å bruke alle data vi allerede har vil den (typisk) huske utenat alle data, og ikke være i stand til å predikere korrekt på *nye* data som kommer inn. Den vil **generalisere dårlig**.\n",
    "\n",
    "Vi bruker **treningsdata til å konstruere modellen** og **testdata til å evaluere modellen.**"
   ]
  },
  {
   "cell_type": "markdown",
   "metadata": {},
   "source": [
    "Vi bruker Scikit-learns `train_test_split`-funksjon til å sette til side 25% av data (med tilhørende labels) som testdata: "
   ]
  },
  {
   "cell_type": "code",
   "execution_count": null,
   "metadata": {},
   "outputs": [],
   "source": [
    "from sklearn.model_selection import train_test_split"
   ]
  },
  {
   "cell_type": "code",
   "execution_count": null,
   "metadata": {},
   "outputs": [],
   "source": [
    "X_train, X_test, y_train, y_test = train_test_split(X, y, random_state=42)"
   ]
  },
  {
   "cell_type": "code",
   "execution_count": null,
   "metadata": {},
   "outputs": [],
   "source": [
    "print(f'Treningsdata: {X_train.shape}\\nTestdata: {X_test.shape}')"
   ]
  },
  {
   "cell_type": "markdown",
   "metadata": {},
   "source": [
    "I det følgende samler vi treningsdata i en dataframe:"
   ]
  },
  {
   "cell_type": "code",
   "execution_count": null,
   "metadata": {},
   "outputs": [],
   "source": [
    "iris_df = pd.DataFrame(X_train, columns=iris_dataset['feature_names'][0:2])"
   ]
  },
  {
   "cell_type": "code",
   "execution_count": null,
   "metadata": {},
   "outputs": [],
   "source": [
    "iris_df.head(10)"
   ]
  },
  {
   "cell_type": "markdown",
   "metadata": {},
   "source": [
    "# Maskinlæringsmodell"
   ]
  },
  {
   "cell_type": "markdown",
   "metadata": {},
   "source": [
    "Det finnes mange ulike maskinlæringsmodeller for klassifikasjon (og vi skal bli kjent med en rekke slike i løpet av kurset). \n",
    "\n",
    "En av de aller mest fleksible (og beste!) typen modeller er såkalte tre-baserte modeller. For eksempel **random forests**, basert på såkalte **beslutningstrær**. Vi kommer tilbake til dette senere i kurset (kap. 6 og 7 i læreboken). Om du ikke vil vente kan du lese mer om random forests her: http://scikit-learn.org/stable/modules/ensemble.html#forests-of-randomized-trees, og om beslutningstrær her: http://scikit-learn.org/stable/modules/tree.html.\n",
    "\n",
    "Foreløpig bruker vi random forest som en «black box», uten nærmere forklaring:"
   ]
  },
  {
   "cell_type": "code",
   "execution_count": null,
   "metadata": {},
   "outputs": [],
   "source": [
    "from sklearn.ensemble import RandomForestClassifier"
   ]
  },
  {
   "cell_type": "code",
   "execution_count": null,
   "metadata": {},
   "outputs": [],
   "source": [
    "rf = RandomForestClassifier()"
   ]
  },
  {
   "cell_type": "markdown",
   "metadata": {},
   "source": [
    "Klassifikasjonsmodellene i scikit-learn er Python klasser, og kommer alltid med `fit` og `predict`-metoder. Med `fit` tilpasses modellen data (i.e. modellen *trenes* på data), mens `predict` brukes til å teste modellen på validerings- og test-data."
   ]
  },
  {
   "cell_type": "code",
   "execution_count": null,
   "metadata": {},
   "outputs": [],
   "source": [
    "rf.fit(X_train, y_train)"
   ]
  },
  {
   "cell_type": "markdown",
   "metadata": {},
   "source": [
    "Som du ser er det en rekke parametre man kan velge i en `RandomForestClassifier` (vi bruker default-verdier)."
   ]
  },
  {
   "cell_type": "code",
   "execution_count": null,
   "metadata": {},
   "outputs": [],
   "source": [
    "y_pred = rf.predict(X_test)"
   ]
  },
  {
   "cell_type": "markdown",
   "metadata": {},
   "source": [
    "Modellen har nå predikert labels på test-data, og vi kan sjekke hvor god prediksjonen ble. *Nøyaktigheten* (*accuracy*) til prediksjonen er et naturlige mål å bruke: altså antall korrekte prediksjoner delt på totalt antall prediksjoner. \n",
    "\n",
    "Vi skal lære mange andre måter å evaluere maskinlæringsmodeller i løpet av kurset."
   ]
  },
  {
   "cell_type": "code",
   "execution_count": null,
   "metadata": {},
   "outputs": [],
   "source": [
    "from sklearn.metrics import accuracy_score"
   ]
  },
  {
   "cell_type": "code",
   "execution_count": null,
   "metadata": {},
   "outputs": [],
   "source": [
    "accuracy_score(y_test, y_pred)"
   ]
  },
  {
   "cell_type": "markdown",
   "metadata": {},
   "source": [
    "**Din tur!**\n",
    "- Du kan også bruke `rf.score` til å finne accuracy. Forsøk dette. \n",
    "- Forsøk å endre på default-parametre i `RandomForestClassifier`. Se om du får bedre accuracy. Hint: forsøk høyere`n_estimators`. Vi skal lære mer om hva parametrene betyr senere i kurset.\n",
    "- Forsøk å bruke alle fire features i modellen, altså petal og sepal lengder og bredder. Hvor godt gjør random forest det da?\n",
    "- Bytt ut `RandomForestClassifier` med en annen klassifikator. For eksempel `SGDClassifier`. Hint: `from sklearn.linear_model import SGDClassifier`."
   ]
  },
  {
   "cell_type": "markdown",
   "metadata": {},
   "source": [
    "# Hele koden samlet:"
   ]
  },
  {
   "cell_type": "markdown",
   "metadata": {},
   "source": [
    "Her er koden vi behøvde for å laste inn data, velge features, splitte opp i trenings- og testdata, trene en modell og predikere. "
   ]
  },
  {
   "cell_type": "code",
   "execution_count": null,
   "metadata": {},
   "outputs": [],
   "source": [
    "# Last inn data og del opp i treningsdata og labels\n",
    "from sklearn.datasets import load_iris\n",
    "iris_dataset = load_iris()\n",
    "X = iris_dataset['data'][:, [0, 1]]\n",
    "y = iris_dataset['target']\n",
    "\n",
    "# Splitt opp i trenings- og testdata\n",
    "X_train, X_test, y_train, y_test = train_test_split(X, y, random_state=42)\n",
    "\n",
    "# Importer og tren en maskinlæringsmodell\n",
    "rf = RandomForestClassifier()\n",
    "rf.fit(X_train, y_train)\n",
    "\n",
    "# Prediker på testdata\n",
    "y_pred = rf.predict(X_test)\n",
    "\n",
    "# Evaluer modellen\n",
    "accuracy_score(y_test, y_pred)"
   ]
  },
  {
   "cell_type": "markdown",
   "metadata": {},
   "source": [
    "# Et annet eksempel"
   ]
  },
  {
   "cell_type": "markdown",
   "metadata": {},
   "source": [
    "## Data"
   ]
  },
  {
   "cell_type": "markdown",
   "metadata": {},
   "source": [
    "La oss gjenta prosedyren på et annet benchmark-datasett: **Diabetes Data Set**. Beskrivelse av datasettet samt lenke til data er tilgjengelig her: https://archive.ics.uci.edu/ml/datasets/diabetes. Vi laster heller ned data fra https://assets.datacamp.com/production/course_1939/datasets/diabetes.csv, da noe av tilretteleggingen allerede er gjort for oss i denne versjonen (data er ferdig pakket ut og samlet i en csv-fil). \n",
    "\n",
    "Når en arbeider med maskinlæring er mye av utfordringen å tilrettelegge data og designe gode features. Vi skal snakke mye om dette i DAT158, allerede i Lab 1. Men vi hopper over dette nå ved å bruke godt tilrettelagte (og dermed ikke særlig realistiske) datasett."
   ]
  },
  {
   "cell_type": "markdown",
   "metadata": {},
   "source": [
    "Vi laster ned data ved å bruke `urllib`, og lagrer filen i katalogen `./data`"
   ]
  },
  {
   "cell_type": "code",
   "execution_count": null,
   "metadata": {},
   "outputs": [],
   "source": [
    "import urllib.request"
   ]
  },
  {
   "cell_type": "code",
   "execution_count": null,
   "metadata": {},
   "outputs": [],
   "source": [
    "url = 'https://assets.datacamp.com/production/course_1939/datasets/diabetes.csv'"
   ]
  },
  {
   "cell_type": "code",
   "execution_count": null,
   "metadata": {},
   "outputs": [],
   "source": [
    "urllib.request.urlretrieve(url, 'data/diabetes.csv')"
   ]
  },
  {
   "cell_type": "code",
   "execution_count": null,
   "metadata": {},
   "outputs": [],
   "source": [
    "%ls data"
   ]
  },
  {
   "cell_type": "markdown",
   "metadata": {},
   "source": [
    "Som vanlig bruker vi Pandas til å se på og prosessere tekstdata:"
   ]
  },
  {
   "cell_type": "code",
   "execution_count": null,
   "metadata": {},
   "outputs": [],
   "source": [
    "diabetes = pd.read_csv('data/diabetes.csv')"
   ]
  },
  {
   "cell_type": "code",
   "execution_count": null,
   "metadata": {},
   "outputs": [],
   "source": [
    "diabetes.head()"
   ]
  },
  {
   "cell_type": "markdown",
   "metadata": {},
   "source": [
    "Vi ser at vi har åtte feature-søyler og én target-søyle (diabetes).\n",
    "\n",
    "Vi kan få mer informasjon om data med `describe` og `info`:"
   ]
  },
  {
   "cell_type": "code",
   "execution_count": null,
   "metadata": {},
   "outputs": [],
   "source": [
    "diabetes.describe()"
   ]
  },
  {
   "cell_type": "code",
   "execution_count": null,
   "metadata": {},
   "outputs": [],
   "source": [
    "diabetes.info()"
   ]
  },
  {
   "cell_type": "markdown",
   "metadata": {},
   "source": [
    "Alt er altså tall, og alle samples inneholder verdier for alle egenskaper (alle søylene har 768 ikke-NaN-verdier). "
   ]
  },
  {
   "cell_type": "markdown",
   "metadata": {},
   "source": [
    "Som isted kan vi visualisere sammenhengene mellom features i et plot farget med hvorvidt de tilhører en person med diabetes eller ikke:"
   ]
  },
  {
   "cell_type": "code",
   "execution_count": null,
   "metadata": {},
   "outputs": [],
   "source": [
    "pd.plotting.scatter_matrix(diabetes, c=diabetes['diabetes'], figsize=(15,15), marker='o', s=60)\n",
    "plt.show()"
   ]
  },
  {
   "cell_type": "markdown",
   "metadata": {},
   "source": [
    "Vi observerer at dette virker som et vanskeligere problem enn Iris. Allikevel, vi følger samme prosedyre:"
   ]
  },
  {
   "cell_type": "markdown",
   "metadata": {},
   "source": [
    "Denne gangen skal vi bruke alle features i våre prediksjoner. Vi lar derfor `X` bestå av alle søylene utenom `diabetes`:"
   ]
  },
  {
   "cell_type": "code",
   "execution_count": null,
   "metadata": {},
   "outputs": [],
   "source": [
    "X = diabetes[diabetes.columns[0:-1]]           "
   ]
  },
  {
   "cell_type": "code",
   "execution_count": null,
   "metadata": {},
   "outputs": [],
   "source": [
    "X.head()"
   ]
  },
  {
   "cell_type": "markdown",
   "metadata": {},
   "source": [
    "Target-variablen ligger i `diabetes`-søylen. `1` betyr diabetes, `0` ikke diabetes."
   ]
  },
  {
   "cell_type": "code",
   "execution_count": null,
   "metadata": {},
   "outputs": [],
   "source": [
    "y = diabetes['diabetes']"
   ]
  },
  {
   "cell_type": "code",
   "execution_count": null,
   "metadata": {},
   "outputs": [],
   "source": [
    "y.head()"
   ]
  },
  {
   "cell_type": "markdown",
   "metadata": {},
   "source": [
    "Vi splitter opp i trenings- og testdata:"
   ]
  },
  {
   "cell_type": "code",
   "execution_count": null,
   "metadata": {},
   "outputs": [],
   "source": [
    "X_train, X_test, y_train, y_test = train_test_split(X, y, random_state=42)"
   ]
  },
  {
   "cell_type": "markdown",
   "metadata": {},
   "source": [
    "... og trener en Random Forest-modell:"
   ]
  },
  {
   "cell_type": "code",
   "execution_count": null,
   "metadata": {},
   "outputs": [],
   "source": [
    "rf = RandomForestClassifier(random_state=42) \n",
    "rf.fit(X_train, y_train)"
   ]
  },
  {
   "cell_type": "markdown",
   "metadata": {},
   "source": [
    "Vi kan så predikere på testdata og evaluere accuracy:"
   ]
  },
  {
   "cell_type": "code",
   "execution_count": null,
   "metadata": {},
   "outputs": [],
   "source": [
    "y_pred = rf.predict(X_test)"
   ]
  },
  {
   "cell_type": "code",
   "execution_count": null,
   "metadata": {},
   "outputs": [],
   "source": [
    "accuracy_score(y_test, y_pred)"
   ]
  },
  {
   "cell_type": "markdown",
   "metadata": {},
   "source": [
    "Med denne modellen kan vi altså predikere diabetes fra disse features med en nøyaktighet på ca. 74%."
   ]
  },
  {
   "cell_type": "markdown",
   "metadata": {},
   "source": [
    "**Viktig!** Merk at fremgangsmåten på diabetes-data var essensielt den samme som for Iris! "
   ]
  },
  {
   "cell_type": "markdown",
   "metadata": {},
   "source": [
    "Dette var koden for Iris:"
   ]
  },
  {
   "cell_type": "code",
   "execution_count": null,
   "metadata": {},
   "outputs": [],
   "source": [
    "# Last inn data og del opp i treningsdata og labels\n",
    "from sklearn.datasets import load_iris\n",
    "iris_dataset = load_iris()\n",
    "X = iris_dataset['data'][:, [0, 1]]\n",
    "y = iris_dataset['target']\n",
    "\n",
    "# Splitt opp i trenings- og testdata\n",
    "X_train, X_test, y_train, y_test = train_test_split(X, y, random_state=42)\n",
    "\n",
    "# Importer og tren en maskinlæringsmodell\n",
    "rf = RandomForestClassifier()\n",
    "rf.fit(X_train, y_train)\n",
    "\n",
    "# Prediker på testdata\n",
    "y_pred = rf.predict(X_test)\n",
    "\n",
    "# Evaluer modellen\n",
    "accuracy_score(y_test, y_pred)"
   ]
  },
  {
   "cell_type": "markdown",
   "metadata": {},
   "source": [
    "Her er koden for diabetes samlet:"
   ]
  },
  {
   "cell_type": "code",
   "execution_count": null,
   "metadata": {},
   "outputs": [],
   "source": [
    "# Last inn data og del opp i treningsdata og labels\n",
    "diabetes = pd.read_csv('data/diabetes.csv')\n",
    "X = diabetes[diabetes.columns[0:-1]] \n",
    "y = diabetes['diabetes']\n",
    "\n",
    "# Splitt opp i trenings- og testdata\n",
    "X_train, X_test, y_train, y_test = train_test_split(X, y, random_state=42)\n",
    "\n",
    "# Importer og tren en maskinlæringsmodell\n",
    "rf = RandomForestClassifier(random_state=42)\n",
    "rf.fit(X_train, y_train)\n",
    "\n",
    "# Prediker på testdata\n",
    "y_pred = rf.predict(X_test)\n",
    "\n",
    "# Evaluer modellen\n",
    "accuracy_score(y_test, y_pred)"
   ]
  },
  {
   "cell_type": "markdown",
   "metadata": {},
   "source": [
    "**Eneste forskjellen er at vi har byttet ut data!** \n",
    "\n",
    "> Maskinlæringsmodeller er svært generiske: samme modell kan brukes til mange ulike oppgaver!"
   ]
  },
  {
   "cell_type": "markdown",
   "metadata": {},
   "source": [
    "## Videre studie av diabetes"
   ]
  },
  {
   "cell_type": "markdown",
   "metadata": {},
   "source": [
    "Med Random Forests kan en få ut hvilke features som var viktigst for prediksjonene, såkalt **feature importance**. Vi skal lære mer om dette senere. "
   ]
  },
  {
   "cell_type": "code",
   "execution_count": null,
   "metadata": {},
   "outputs": [],
   "source": [
    "importances = rf.feature_importances_"
   ]
  },
  {
   "cell_type": "code",
   "execution_count": null,
   "metadata": {},
   "outputs": [],
   "source": [
    "importances"
   ]
  },
  {
   "cell_type": "code",
   "execution_count": null,
   "metadata": {},
   "outputs": [],
   "source": [
    "# Finn indeks til de med høyest importance, sortert fra størst til minst:\n",
    "indices = np.argsort(importances)[::-1]"
   ]
  },
  {
   "cell_type": "code",
   "execution_count": null,
   "metadata": {},
   "outputs": [],
   "source": [
    "for f in range(X.shape[1]): \n",
    "    print(f'{X.columns[indices[f]]}: {np.round(importances[indices[f]],2)}')"
   ]
  },
  {
   "cell_type": "markdown",
   "metadata": {},
   "source": [
    "Det er altså glukose-nivået som har størst forklaringsverdi, etterfulgt av BMI og alder."
   ]
  },
  {
   "cell_type": "markdown",
   "metadata": {},
   "source": [
    "**Din tur!**\n",
    "- Hent ut feature importances for Iris-prediksjone. Er det sepal-lengde eller -bredde som gir mest informasjon?\n",
    "- Konstruer en annen random forest ved å bytte ut `random_state`. Hva skjer med accuracy? Hva skjer med feature importances? \n",
    "- Forsøk å lage en bedre random forest-modell ved å endre på parametre. Om du ønsker et *dypdykk*, bruk `grid_search` (http://scikit-learn.org/stable/modules/grid_search.html) for å finne gode parametre. \n",
    "- Forsøk en annen klassifikasjonsmodell. \n",
    "- **Ekstra utfordrende oppgave**: Her finner du et annet godt tilrettelagt datasett: https://assets.datacamp.com/production/course_1939/datasets/auto.csv. Last ned dette og gjenta prosessen. Denne gangen er målet å predikere hvilket land en bil kommer fra gitt en rekke features."
   ]
  }
 ],
 "metadata": {
  "kernelspec": {
   "display_name": "DAT158",
   "language": "python",
   "name": "dat158"
  },
  "language_info": {
   "codemirror_mode": {
    "name": "ipython",
    "version": 3
   },
   "file_extension": ".py",
   "mimetype": "text/x-python",
   "name": "python",
   "nbconvert_exporter": "python",
   "pygments_lexer": "ipython3",
   "version": "3.6.5"
  },
  "toc": {
   "base_numbering": 1,
   "nav_menu": {},
   "number_sections": true,
   "sideBar": true,
   "skip_h1_title": false,
   "title_cell": "Table of Contents",
   "title_sidebar": "Contents",
   "toc_cell": false,
   "toc_position": {},
   "toc_section_display": true,
   "toc_window_display": false
  }
 },
 "nbformat": 4,
 "nbformat_minor": 2
}
